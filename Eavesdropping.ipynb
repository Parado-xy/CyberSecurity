{
 "cells": [
  {
   "cell_type": "markdown",
   "metadata": {},
   "source": [
    "**Eavesdropping**\n",
    "\n",
    "Eavesdropping is when an attacker secretly accesses someone else’s communications across an unencrypted network.\n",
    "\n",
    "\n",
    "\n",
    "One of the most well-known eavesdropping attacks is a *man-in-the-middle (MitM) attack*. In this attack, an attacker inserts themself between two devices, like your laptop and a server, to capture and modify communication between them. For example, say an attacker sets up a free wifi hotspot in a popular public\n",
    "location, and you connect to this network. The attacker could view your communications, redirect you to fake login screens, or insert advertisements over web pages.\n",
    "\n",
    "\n",
    "You are especially vulnerable to eavesdropping on <i>unsecure or open networks.</i> These are free, unencrypted networks without password requirements, such as guest networks that airports, hotels, and restaurants provide. Attackers can exploit these networks in many ways. For example, while you are logged into your bank account, an attacker could take control of your session and transfer money elsewhere. Hijacking a session in real time is called **session hijacking**. "
   ]
  },
  {
   "cell_type": "markdown",
   "metadata": {},
   "source": [
    "**VPNs**\n",
    "\n",
    "One defense against eavesdropping is a virtual private network (VPN). A VPN is a virtual network that encrypts communication between two or more sites. \n",
    "\n",
    "Your VPN **encrypts all data** sent from your device, including your IP address. Next, the recipient’s VPN decrypts that data. This recipient may be a third-party VPN server; instead of connecting to websites directly, you connect to the server, which provides you access to websites.\n",
    "\n",
    "With a VPN, you can browse the web anonymously. You can prevent attackers, your internet service provider, and online vendors from reading or decrypting your data. You might even be able to choose a specific region for the VPN server, enabling you to view content specific to that region."
   ]
  },
  {
   "cell_type": "markdown",
   "metadata": {},
   "source": [
    "`Note: Antimalware software detects malware by scanning all device files for malware signatures, which are patterns of attributes that correspond to known malware. After identifying a malware signature in a file, antimalware software deletes the file, quarantines it, or alerts you that the file could be infected.`"
   ]
  }
 ],
 "metadata": {
  "language_info": {
   "name": "python"
  }
 },
 "nbformat": 4,
 "nbformat_minor": 2
}
