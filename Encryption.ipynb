{
 "cells": [
  {
   "cell_type": "markdown",
   "metadata": {},
   "source": [
    "**Cryptography** is defined as the art of writing and solving codes."
   ]
  },
  {
   "cell_type": "markdown",
   "metadata": {},
   "source": [
    "### Encryption. \n",
    "\n",
    "**Encryption is the process by which a message is converted into something that cannot be understood, except by those who have a decryption key to reverse the process.** When a message has been converted into an unreadable state it is said to be encrypted. At a high level, there are two forms of encryption in use for the world today: symmetric and asymmetric."
   ]
  },
  {
   "cell_type": "markdown",
   "metadata": {},
   "source": [
    "## Types of Encryption:\n",
    "\n",
    "**Symmetric encryption**\n",
    " \n",
    "In symmetric encryption, the algorithm for encrypting information uses the same key as the decryption process. Symmetric encryption is fast and easy to implement. It relies on both the sender and receiver having access to the same key, kind of like a password or \"shared secret\", to maintain a private information link.\n",
    "\n",
    "\n",
    "\n",
    "### How Symmetric Encryption Works:\n",
    "1. **Encryption**: The sender uses a secret key to convert plaintext (readable data) into ciphertext (encrypted data).\n",
    "2. **Decryption**: The recipient, who has the same secret key, uses it to decrypt the ciphertext back into plaintext.\n",
    "\n",
    "### Key Characteristics:\n",
    "- **Same Key**: Both the sender and recipient must securely share the same encryption key.\n",
    "- **Speed**: Symmetric encryption is faster compared to asymmetric encryption, making it suitable for encrypting large amounts of data.\n",
    "- **Security**: The challenge lies in securely sharing and managing the secret key between parties. If the key is intercepted, the security is compromised.\n",
    "\n",
    "### Common Symmetric Encryption Algorithms:\n",
    "- **AES (Advanced Encryption Standard)**: One of the most secure and commonly used algorithms.\n",
    "- **DES (Data Encryption Standard)**: An older standard, now largely replaced by AES.\n",
    "- **Blowfish**: A fast and flexible algorithm often used in file encryption.\n",
    "\n",
    "Symmetric encryption is commonly used for securing sensitive data in various applications, including online transactions and data storage. However, due to the need for secure key exchange, it is often paired with asymmetric encryption to provide a more comprehensive security solution."
   ]
  },
  {
   "cell_type": "markdown",
   "metadata": {},
   "source": [
    "\n",
    "**Asymmetric encryption**, also known as **public-key encryption**, is a type of encryption that uses two different but mathematically related keys: a **public key** and a **private key**. These keys are used for secure communication between parties, and the key used to encrypt the data is not the same as the one used to decrypt it.\n",
    "\n",
    "### How Asymmetric Encryption Works:\n",
    "1. **Public Key (Encryption)**: The sender uses the recipient's publicly shared key to encrypt the message. This key can be shared openly.\n",
    "2. **Private Key (Decryption)**: The recipient uses their own private key, which is kept secret, to decrypt the message.\n",
    "\n",
    "### Key Characteristics:\n",
    "- **Two Keys**: The public key is shared with anyone, but the private key is kept secure and confidential.\n",
    "- **Increased Security**: Even if the public key is intercepted, it cannot be used to decrypt the message. Only the private key can do that.\n",
    "- **Key Exchange**: Asymmetric encryption solves the problem of key exchange that occurs in symmetric encryption, as no secret key needs to be shared directly.\n",
    "\n",
    "### Common Asymmetric Encryption Algorithms:\n",
    "- **RSA (Rivest-Shamir-Adleman)**: One of the most widely used algorithms for securing sensitive data, especially for web browsers and email encryption.\n",
    "- **ECC (Elliptic Curve Cryptography)**: A more efficient algorithm that provides the same level of security with smaller key sizes than RSA.\n",
    "- **DSA (Digital Signature Algorithm)**: Primarily used for digital signatures rather than encryption.\n",
    "\n",
    "### Applications of Asymmetric Encryption:\n",
    "- **Digital Signatures**: Verifying the authenticity and integrity of digital communications.\n",
    "- **SSL/TLS Protocols**: Securing internet traffic (e.g., HTTPS).\n",
    "- **Email Encryption**: Providing secure email communications (e.g., PGP, GPG).\n",
    "\n",
    "Because of its security advantages, asymmetric encryption is often used for key exchange in combination with symmetric encryption, where the symmetric key is exchanged securely using asymmetric methods."
   ]
  }
 ],
 "metadata": {
  "language_info": {
   "name": "python"
  }
 },
 "nbformat": 4,
 "nbformat_minor": 2
}
