{
 "cells": [
  {
   "cell_type": "markdown",
   "metadata": {},
   "source": [
    "# Malware:\n",
    "[Malware is] software or firmware intended to perform an unauthorized process that will have adverse impact on the confidentiality, integrity, or availability of an information system."
   ]
  },
  {
   "cell_type": "markdown",
   "metadata": {},
   "source": [
    "Attackers often target an organization’s endpoints. An endpoint is a device connected to the organization’s network. With endpoint access, attackers can disrupt a competitor’s operations or use sensitive information to extort the organization."
   ]
  },
  {
   "cell_type": "markdown",
   "metadata": {},
   "source": [
    "## Well known examples of Malwares:\n",
    "\n",
    "<blockquote>\n",
    "    **Virus**\n",
    "\n",
    "        A virus is a piece of malicious code that attaches to other files or programs to replicate itself. Viruses need user interaction to run, such as when a user opens a malicious executable file that they think is safe. Once run, viruses can alter system performance, overwrite files, or delete or corrupt data. They spread to other computers by design, furthering the damage done.\n",
    "</blockquote>\n",
    "\n",
    "<blockquote>\n",
    "    **Worms**\n",
    "\n",
    "        Worms are self-replicating malware that, unlike viruses, do not require human interaction to run. Typically, worms spread and stifle resources or turn computers into zombies. A zombie is a compromised computer that attackers can use for purposes such as sending spam emails and mining cryptocurrency.\n",
    "</blockquote>\n",
    "\n",
    "<blockquote>\n",
    "    **Torjan Horse**\n",
    "\n",
    "        A trojan horse, or trojan, is a seemingly helpful program designed to secretly give an attacker access to the device. Attackers disguise trojans as benign programs or files such as games, wallpapers, or other downloads. Once the user runs the trojan, the attacker can control the computer remotely, steal data, spy on user activity, install other malware, or perform other malicious actions.\n",
    "</blockquote>\n",
    "\n",
    "<blockquote>\n",
    "    **Ransome-Ware**\n",
    "\n",
    "        Ransomware is software that infects a system, restricts users’ access to the system or its data, and instructs users to pay a ransom to regain access. Often, the instructions warn that if the user or organization doesn’t pay the ransom by a deadline, the attacker will destroy the data.\n",
    "</blockquote>\n",
    "\n",
    "<blockquote>\n",
    "    **Spyware**\n",
    "\n",
    "        Spyware is software installed on a device or system secretly to collect and report information about the user or organization. Some examples of this information include financial information and login credentials. Other examples are web browsing habits, download history, and other internet behavior that attackers can sell to organizations as marketing data.\n",
    "</blockquote>\n",
    "\n",
    "<blockquote>\n",
    "    **Adware**\n",
    "\n",
    "        Adware, short for advertising-supported software, is software that automatically displays unsolicited advertisements. Usually, these ads open in pop-up windows. However, adware can also change the browser home page to one advertising a product or service and insert ads into search results. It can even install browser extensions, plugins, or toolbars associated with the product.\n",
    "</blockquote>\n",
    "\n",
    "<blockquote>\n",
    "    **Broswer HiJacker.**\n",
    "    \n",
    "        A browser hijacker, or simply hijacker, is a program that alters browser settings without the user’s authorization, and it often functions as adware. For example, hijackers might change the browser home page, install or modify toolbars, or include ads in search results. They might also redirect users to pages with paid content or downloadable malware.\n",
    "</blockquote>"
   ]
  }
 ],
 "metadata": {
  "language_info": {
   "name": "python"
  }
 },
 "nbformat": 4,
 "nbformat_minor": 2
}
